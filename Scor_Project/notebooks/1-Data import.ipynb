{
 "cells": [
  {
   "cell_type": "markdown",
   "metadata": {},
   "source": [
    "# What is expected from you ?\n",
    "To answer the instructions below, you must provide Python scripts (.py files).\n",
    "Be aware that :\n",
    "1- you need to answer step 1 (this notebook) and step 2 (2-Data preprocessing notebook) with all your scripts\n",
    "2- you may need to organise your code in several files to answer.\n",
    "\n",
    "Show in the way you name and group your scripts the structure of your project.\n",
    "Maybe reusing the names of the notebooks for steps 1 and 2 can be useful OR not !!! "
   ]
  },
  {
   "cell_type": "markdown",
   "metadata": {},
   "source": [
    "# Importing greenhouse gas (GHG) data\n",
    "The data is related to GhG (Green House Gas) in France per \"commune\". \n",
    "The data, produced by ADEME, are to be found here : https://www.data.gouv.fr/fr/datasets/inventaire-de-gaz-a-effet-de-serre-territorialise/#_\n",
    "This first part of project consists in importing the data using 2 methods\n",
    "\n",
    "You will name 'emissions_df\" the dataframe that will contain the imported data"
   ]
  },
  {
   "cell_type": "markdown",
   "metadata": {
    "vscode": {
     "languageId": "plaintext"
    }
   },
   "source": [
    "## 1-Importing data by storing it locally\n",
    "1- Download the .csv file and import it using Pandas\n",
    "2- Show the first 20 lines of the dataframe that you get\n"
   ]
  },
  {
   "cell_type": "markdown",
   "metadata": {
    "vscode": {
     "languageId": "plaintext"
    }
   },
   "source": [
    "## 2-Importing data by using an URL\n",
    "1- Import the file (WITHOUT DONWLOADING IT) using the following URL: https://koumoul.com/s/data-fair/api/v1/datasets/igt-pouvoir-de-rechauffement-global/convert\n",
    "2- Show the first 20 lines of the dataframes that you get"
   ]
  },
  {
   "cell_type": "markdown",
   "metadata": {
    "vscode": {
     "languageId": "plaintext"
    }
   },
   "source": [
    "# Importing data on \"communes\"\n",
    "1- Import the \"données_communes.csv\" file, provided as attachment\n",
    "2- Show the first 20 lines\n",
    "\n",
    "The imported data will be in a dataframe named \"communes_df\""
   ]
  },
  {
   "cell_type": "markdown",
   "metadata": {},
   "source": [
    "# BONUS !\n",
    "NOTE: during the internship you will use Polars instead of Pandas, therefore if you are courageous you can also do all the project using Polars."
   ]
  }
 ],
 "metadata": {
  "language_info": {
   "name": "python"
  }
 },
 "nbformat": 4,
 "nbformat_minor": 2
}
