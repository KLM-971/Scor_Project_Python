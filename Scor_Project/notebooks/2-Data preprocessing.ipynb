{
 "cells": [
  {
   "cell_type": "markdown",
   "metadata": {},
   "source": [
    "# First data transformations and processing\n",
    "In this part, you will make some transformations on data.\n",
    "You will also need to add more information to the original data"
   ]
  },
  {
   "cell_type": "markdown",
   "metadata": {
    "vscode": {
     "languageId": "plaintext"
    }
   },
   "source": [
    "## 1- Create the dataset we will use (GHG data in \"emissions_df\" dataframe)\n",
    "\n",
    "### 1-1 Show me the columns in the file\n",
    "Provide me with the names of all columns in the file (i-e show me with Python code).\n",
    "### 1-2 Rename some columns \n",
    "Some names are not practical.\n",
    "Please rename some columns using the following rules:\n",
    "INSEE commune -> commune_code_insee\n",
    "Autres transports -> transports\n",
    "Autres transports international -> transports_international\n",
    "All column names must be in lower case (e.g:Agriculture -> agriculture)"
   ]
  },
  {
   "cell_type": "markdown",
   "metadata": {
    "vscode": {
     "languageId": "plaintext"
    }
   },
   "source": [
    "## 2-Handling missing values\n",
    "1- Show summary statistics of the emissions_df\n",
    "2- Propose a way to handle missing values and implement it. Create a new column for each column where you have imputed missing values (i-e don't make changes in place !)."
   ]
  },
  {
   "cell_type": "markdown",
   "metadata": {
    "vscode": {
     "languageId": "plaintext"
    }
   },
   "source": [
    "## 3-Adding other data \n",
    "1- The data we will use is in the \"donnes_communes.csv\" file you've already imported (\"communes_df\" dataframe)\n",
    "2- Join the 2 dataframes to create a new dataframe 'emissions_communes_df' with \n",
    " - the emissions data from the \"emissions_df\" dataframe, \n",
    " - the zipcode (code postal) column \"DEP\" in 'communes_df' dataframe\n",
    " - the population size, column \"PTOT\" in 'communes_df' dataframe\n",
    " - the region name, column \"Région\" in 'communes_df' dataframe\n",
    " - the region code, column \"REG\" in 'communes_df' dataframe\n",
    "3- Rename again columns in the \"emissions_communs_df\" dataframe:\n",
    "PTOT -> population_totale\n",
    "DEP -> departement_code\n",
    "REG -> region_code\n",
    "Région -> region_name"
   ]
  }
 ],
 "metadata": {
  "language_info": {
   "name": "python"
  }
 },
 "nbformat": 4,
 "nbformat_minor": 2
}
